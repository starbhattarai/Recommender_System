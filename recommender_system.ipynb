{
 "cells": [
  {
   "cell_type": "markdown",
   "metadata": {},
   "source": [
    "#         Recommender system\n",
    "##         Data contains \n",
    "###          943 Movie Users\n",
    "###          1682 Movies\n",
    "###          100000 ratings of movies\n",
    "###           Given that each user has rated some item in the system, system will predict how the users would \n",
    "###            rate items that they have not watched yet. \n",
    "###            Used data from https://grouplens.org/datasets/movielens/"
   ]
  },
  {
   "cell_type": "code",
   "execution_count": 126,
   "metadata": {
    "collapsed": true
   },
   "outputs": [],
   "source": [
    "import pandas as pd\n",
    "import matplotlib \n",
    "import matplotlib.pyplot as plt\n",
    "import numpy as np\n",
    "import math\n",
    "from scipy import stats"
   ]
  },
  {
   "cell_type": "code",
   "execution_count": 127,
   "metadata": {
    "collapsed": true
   },
   "outputs": [],
   "source": [
    "#Reading Users data\n",
    "user_cols = ['user_id','age','sex','occupation','zip_code']\n",
    "users = pd.read_csv('u.user',sep = '|',names =user_cols,encoding='latin-1')"
   ]
  },
  {
   "cell_type": "code",
   "execution_count": 14,
   "metadata": {},
   "outputs": [
    {
     "data": {
      "text/plain": [
       "(943, 5)"
      ]
     },
     "execution_count": 14,
     "metadata": {},
     "output_type": "execute_result"
    }
   ],
   "source": [
    "users.shape"
   ]
  },
  {
   "cell_type": "code",
   "execution_count": 15,
   "metadata": {},
   "outputs": [
    {
     "data": {
      "text/html": [
       "<div>\n",
       "<style>\n",
       "    .dataframe thead tr:only-child th {\n",
       "        text-align: right;\n",
       "    }\n",
       "\n",
       "    .dataframe thead th {\n",
       "        text-align: left;\n",
       "    }\n",
       "\n",
       "    .dataframe tbody tr th {\n",
       "        vertical-align: top;\n",
       "    }\n",
       "</style>\n",
       "<table border=\"1\" class=\"dataframe\">\n",
       "  <thead>\n",
       "    <tr style=\"text-align: right;\">\n",
       "      <th></th>\n",
       "      <th>user_id</th>\n",
       "      <th>age</th>\n",
       "      <th>sex</th>\n",
       "      <th>occupation</th>\n",
       "      <th>zip_code</th>\n",
       "    </tr>\n",
       "  </thead>\n",
       "  <tbody>\n",
       "    <tr>\n",
       "      <th>0</th>\n",
       "      <td>1</td>\n",
       "      <td>24</td>\n",
       "      <td>M</td>\n",
       "      <td>technician</td>\n",
       "      <td>85711</td>\n",
       "    </tr>\n",
       "    <tr>\n",
       "      <th>1</th>\n",
       "      <td>2</td>\n",
       "      <td>53</td>\n",
       "      <td>F</td>\n",
       "      <td>other</td>\n",
       "      <td>94043</td>\n",
       "    </tr>\n",
       "    <tr>\n",
       "      <th>2</th>\n",
       "      <td>3</td>\n",
       "      <td>23</td>\n",
       "      <td>M</td>\n",
       "      <td>writer</td>\n",
       "      <td>32067</td>\n",
       "    </tr>\n",
       "    <tr>\n",
       "      <th>3</th>\n",
       "      <td>4</td>\n",
       "      <td>24</td>\n",
       "      <td>M</td>\n",
       "      <td>technician</td>\n",
       "      <td>43537</td>\n",
       "    </tr>\n",
       "    <tr>\n",
       "      <th>4</th>\n",
       "      <td>5</td>\n",
       "      <td>33</td>\n",
       "      <td>F</td>\n",
       "      <td>other</td>\n",
       "      <td>15213</td>\n",
       "    </tr>\n",
       "  </tbody>\n",
       "</table>\n",
       "</div>"
      ],
      "text/plain": [
       "   user_id  age sex  occupation zip_code\n",
       "0        1   24   M  technician    85711\n",
       "1        2   53   F       other    94043\n",
       "2        3   23   M      writer    32067\n",
       "3        4   24   M  technician    43537\n",
       "4        5   33   F       other    15213"
      ]
     },
     "execution_count": 15,
     "metadata": {},
     "output_type": "execute_result"
    }
   ],
   "source": [
    "users.head()"
   ]
  },
  {
   "cell_type": "code",
   "execution_count": 16,
   "metadata": {
    "collapsed": true
   },
   "outputs": [],
   "source": [
    "#Reading ratings data:\n",
    "rating_cols = ['user_id', 'movie_id', 'rating', 'unix_timestamp']\n",
    "ratings = pd.read_csv('u.data', sep='\\t', names=rating_cols,encoding='latin-1')"
   ]
  },
  {
   "cell_type": "code",
   "execution_count": 17,
   "metadata": {},
   "outputs": [
    {
     "data": {
      "text/plain": [
       "(100000, 4)"
      ]
     },
     "execution_count": 17,
     "metadata": {},
     "output_type": "execute_result"
    }
   ],
   "source": [
    "ratings.shape"
   ]
  },
  {
   "cell_type": "code",
   "execution_count": 18,
   "metadata": {},
   "outputs": [
    {
     "data": {
      "text/html": [
       "<div>\n",
       "<style>\n",
       "    .dataframe thead tr:only-child th {\n",
       "        text-align: right;\n",
       "    }\n",
       "\n",
       "    .dataframe thead th {\n",
       "        text-align: left;\n",
       "    }\n",
       "\n",
       "    .dataframe tbody tr th {\n",
       "        vertical-align: top;\n",
       "    }\n",
       "</style>\n",
       "<table border=\"1\" class=\"dataframe\">\n",
       "  <thead>\n",
       "    <tr style=\"text-align: right;\">\n",
       "      <th></th>\n",
       "      <th>user_id</th>\n",
       "      <th>movie_id</th>\n",
       "      <th>rating</th>\n",
       "      <th>unix_timestamp</th>\n",
       "    </tr>\n",
       "  </thead>\n",
       "  <tbody>\n",
       "    <tr>\n",
       "      <th>0</th>\n",
       "      <td>196</td>\n",
       "      <td>242</td>\n",
       "      <td>3</td>\n",
       "      <td>881250949</td>\n",
       "    </tr>\n",
       "    <tr>\n",
       "      <th>1</th>\n",
       "      <td>186</td>\n",
       "      <td>302</td>\n",
       "      <td>3</td>\n",
       "      <td>891717742</td>\n",
       "    </tr>\n",
       "    <tr>\n",
       "      <th>2</th>\n",
       "      <td>22</td>\n",
       "      <td>377</td>\n",
       "      <td>1</td>\n",
       "      <td>878887116</td>\n",
       "    </tr>\n",
       "    <tr>\n",
       "      <th>3</th>\n",
       "      <td>244</td>\n",
       "      <td>51</td>\n",
       "      <td>2</td>\n",
       "      <td>880606923</td>\n",
       "    </tr>\n",
       "    <tr>\n",
       "      <th>4</th>\n",
       "      <td>166</td>\n",
       "      <td>346</td>\n",
       "      <td>1</td>\n",
       "      <td>886397596</td>\n",
       "    </tr>\n",
       "  </tbody>\n",
       "</table>\n",
       "</div>"
      ],
      "text/plain": [
       "   user_id  movie_id  rating  unix_timestamp\n",
       "0      196       242       3       881250949\n",
       "1      186       302       3       891717742\n",
       "2       22       377       1       878887116\n",
       "3      244        51       2       880606923\n",
       "4      166       346       1       886397596"
      ]
     },
     "execution_count": 18,
     "metadata": {},
     "output_type": "execute_result"
    }
   ],
   "source": [
    "ratings.head()"
   ]
  },
  {
   "cell_type": "code",
   "execution_count": 19,
   "metadata": {
    "collapsed": true
   },
   "outputs": [],
   "source": [
    "#Reading movies file:\n",
    "movie_cols = ['movie id', 'movie title' ,'release date','video release date', 'IMDb URL', 'unknown', 'Action', 'Adventure',\n",
    "'Animation', 'Children\\'s', 'Comedy', 'Crime', 'Documentary', 'Drama', 'Fantasy',\n",
    "'Film-Noir', 'Horror', 'Musical', 'Mystery', 'Romance', 'Sci-Fi', 'Thriller', 'War', 'Western']\n",
    "movies = pd.read_csv('u.item', sep='|', names=movie_cols, encoding='latin-1')"
   ]
  },
  {
   "cell_type": "code",
   "execution_count": 20,
   "metadata": {},
   "outputs": [
    {
     "data": {
      "text/plain": [
       "(1682, 24)"
      ]
     },
     "execution_count": 20,
     "metadata": {},
     "output_type": "execute_result"
    }
   ],
   "source": [
    "movies.shape"
   ]
  },
  {
   "cell_type": "code",
   "execution_count": 21,
   "metadata": {
    "scrolled": true
   },
   "outputs": [
    {
     "data": {
      "text/html": [
       "<div>\n",
       "<style>\n",
       "    .dataframe thead tr:only-child th {\n",
       "        text-align: right;\n",
       "    }\n",
       "\n",
       "    .dataframe thead th {\n",
       "        text-align: left;\n",
       "    }\n",
       "\n",
       "    .dataframe tbody tr th {\n",
       "        vertical-align: top;\n",
       "    }\n",
       "</style>\n",
       "<table border=\"1\" class=\"dataframe\">\n",
       "  <thead>\n",
       "    <tr style=\"text-align: right;\">\n",
       "      <th></th>\n",
       "      <th>movie id</th>\n",
       "      <th>movie title</th>\n",
       "      <th>release date</th>\n",
       "      <th>video release date</th>\n",
       "      <th>IMDb URL</th>\n",
       "      <th>unknown</th>\n",
       "      <th>Action</th>\n",
       "      <th>Adventure</th>\n",
       "      <th>Animation</th>\n",
       "      <th>Children's</th>\n",
       "      <th>...</th>\n",
       "      <th>Fantasy</th>\n",
       "      <th>Film-Noir</th>\n",
       "      <th>Horror</th>\n",
       "      <th>Musical</th>\n",
       "      <th>Mystery</th>\n",
       "      <th>Romance</th>\n",
       "      <th>Sci-Fi</th>\n",
       "      <th>Thriller</th>\n",
       "      <th>War</th>\n",
       "      <th>Western</th>\n",
       "    </tr>\n",
       "  </thead>\n",
       "  <tbody>\n",
       "    <tr>\n",
       "      <th>0</th>\n",
       "      <td>1</td>\n",
       "      <td>Toy Story (1995)</td>\n",
       "      <td>01-Jan-1995</td>\n",
       "      <td>NaN</td>\n",
       "      <td>http://us.imdb.com/M/title-exact?Toy%20Story%2...</td>\n",
       "      <td>0</td>\n",
       "      <td>0</td>\n",
       "      <td>0</td>\n",
       "      <td>1</td>\n",
       "      <td>1</td>\n",
       "      <td>...</td>\n",
       "      <td>0</td>\n",
       "      <td>0</td>\n",
       "      <td>0</td>\n",
       "      <td>0</td>\n",
       "      <td>0</td>\n",
       "      <td>0</td>\n",
       "      <td>0</td>\n",
       "      <td>0</td>\n",
       "      <td>0</td>\n",
       "      <td>0</td>\n",
       "    </tr>\n",
       "    <tr>\n",
       "      <th>1</th>\n",
       "      <td>2</td>\n",
       "      <td>GoldenEye (1995)</td>\n",
       "      <td>01-Jan-1995</td>\n",
       "      <td>NaN</td>\n",
       "      <td>http://us.imdb.com/M/title-exact?GoldenEye%20(...</td>\n",
       "      <td>0</td>\n",
       "      <td>1</td>\n",
       "      <td>1</td>\n",
       "      <td>0</td>\n",
       "      <td>0</td>\n",
       "      <td>...</td>\n",
       "      <td>0</td>\n",
       "      <td>0</td>\n",
       "      <td>0</td>\n",
       "      <td>0</td>\n",
       "      <td>0</td>\n",
       "      <td>0</td>\n",
       "      <td>0</td>\n",
       "      <td>1</td>\n",
       "      <td>0</td>\n",
       "      <td>0</td>\n",
       "    </tr>\n",
       "    <tr>\n",
       "      <th>2</th>\n",
       "      <td>3</td>\n",
       "      <td>Four Rooms (1995)</td>\n",
       "      <td>01-Jan-1995</td>\n",
       "      <td>NaN</td>\n",
       "      <td>http://us.imdb.com/M/title-exact?Four%20Rooms%...</td>\n",
       "      <td>0</td>\n",
       "      <td>0</td>\n",
       "      <td>0</td>\n",
       "      <td>0</td>\n",
       "      <td>0</td>\n",
       "      <td>...</td>\n",
       "      <td>0</td>\n",
       "      <td>0</td>\n",
       "      <td>0</td>\n",
       "      <td>0</td>\n",
       "      <td>0</td>\n",
       "      <td>0</td>\n",
       "      <td>0</td>\n",
       "      <td>1</td>\n",
       "      <td>0</td>\n",
       "      <td>0</td>\n",
       "    </tr>\n",
       "    <tr>\n",
       "      <th>3</th>\n",
       "      <td>4</td>\n",
       "      <td>Get Shorty (1995)</td>\n",
       "      <td>01-Jan-1995</td>\n",
       "      <td>NaN</td>\n",
       "      <td>http://us.imdb.com/M/title-exact?Get%20Shorty%...</td>\n",
       "      <td>0</td>\n",
       "      <td>1</td>\n",
       "      <td>0</td>\n",
       "      <td>0</td>\n",
       "      <td>0</td>\n",
       "      <td>...</td>\n",
       "      <td>0</td>\n",
       "      <td>0</td>\n",
       "      <td>0</td>\n",
       "      <td>0</td>\n",
       "      <td>0</td>\n",
       "      <td>0</td>\n",
       "      <td>0</td>\n",
       "      <td>0</td>\n",
       "      <td>0</td>\n",
       "      <td>0</td>\n",
       "    </tr>\n",
       "    <tr>\n",
       "      <th>4</th>\n",
       "      <td>5</td>\n",
       "      <td>Copycat (1995)</td>\n",
       "      <td>01-Jan-1995</td>\n",
       "      <td>NaN</td>\n",
       "      <td>http://us.imdb.com/M/title-exact?Copycat%20(1995)</td>\n",
       "      <td>0</td>\n",
       "      <td>0</td>\n",
       "      <td>0</td>\n",
       "      <td>0</td>\n",
       "      <td>0</td>\n",
       "      <td>...</td>\n",
       "      <td>0</td>\n",
       "      <td>0</td>\n",
       "      <td>0</td>\n",
       "      <td>0</td>\n",
       "      <td>0</td>\n",
       "      <td>0</td>\n",
       "      <td>0</td>\n",
       "      <td>1</td>\n",
       "      <td>0</td>\n",
       "      <td>0</td>\n",
       "    </tr>\n",
       "  </tbody>\n",
       "</table>\n",
       "<p>5 rows × 24 columns</p>\n",
       "</div>"
      ],
      "text/plain": [
       "   movie id        movie title release date  video release date  \\\n",
       "0         1   Toy Story (1995)  01-Jan-1995                 NaN   \n",
       "1         2   GoldenEye (1995)  01-Jan-1995                 NaN   \n",
       "2         3  Four Rooms (1995)  01-Jan-1995                 NaN   \n",
       "3         4  Get Shorty (1995)  01-Jan-1995                 NaN   \n",
       "4         5     Copycat (1995)  01-Jan-1995                 NaN   \n",
       "\n",
       "                                            IMDb URL  unknown  Action  \\\n",
       "0  http://us.imdb.com/M/title-exact?Toy%20Story%2...        0       0   \n",
       "1  http://us.imdb.com/M/title-exact?GoldenEye%20(...        0       1   \n",
       "2  http://us.imdb.com/M/title-exact?Four%20Rooms%...        0       0   \n",
       "3  http://us.imdb.com/M/title-exact?Get%20Shorty%...        0       1   \n",
       "4  http://us.imdb.com/M/title-exact?Copycat%20(1995)        0       0   \n",
       "\n",
       "   Adventure  Animation  Children's   ...     Fantasy  Film-Noir  Horror  \\\n",
       "0          0          1           1   ...           0          0       0   \n",
       "1          1          0           0   ...           0          0       0   \n",
       "2          0          0           0   ...           0          0       0   \n",
       "3          0          0           0   ...           0          0       0   \n",
       "4          0          0           0   ...           0          0       0   \n",
       "\n",
       "   Musical  Mystery  Romance  Sci-Fi  Thriller  War  Western  \n",
       "0        0        0        0       0         0    0        0  \n",
       "1        0        0        0       0         1    0        0  \n",
       "2        0        0        0       0         1    0        0  \n",
       "3        0        0        0       0         0    0        0  \n",
       "4        0        0        0       0         1    0        0  \n",
       "\n",
       "[5 rows x 24 columns]"
      ]
     },
     "execution_count": 21,
     "metadata": {},
     "output_type": "execute_result"
    }
   ],
   "source": [
    "movies.head()"
   ]
  },
  {
   "cell_type": "markdown",
   "metadata": {},
   "source": [
    "## convert csv file into pandas Dataframe"
   ]
  },
  {
   "cell_type": "code",
   "execution_count": 22,
   "metadata": {
    "collapsed": true
   },
   "outputs": [],
   "source": [
    "r_cols = ['user_id', 'movie_id', 'rating', 'unix_timestamp']\n",
    "ratings_train = pd.read_csv('ua.base', sep='\\t', names=r_cols, encoding='latin-1')\n",
    "ratings_test = pd.read_csv('ua.test', sep='\\t', names=r_cols, encoding='latin-1')"
   ]
  },
  {
   "cell_type": "code",
   "execution_count": 23,
   "metadata": {},
   "outputs": [
    {
     "data": {
      "text/plain": [
       "(9430, 4)"
      ]
     },
     "execution_count": 23,
     "metadata": {},
     "output_type": "execute_result"
    }
   ],
   "source": [
    "ratings_test.shape"
   ]
  },
  {
   "cell_type": "code",
   "execution_count": 24,
   "metadata": {
    "collapsed": true
   },
   "outputs": [],
   "source": [
    "r_cols1 = ['user_id', 'movie_id', 'rating', 'unix_timestamp']\n",
    "ratings_train1 = pd.read_csv('u1.base', sep='\\t', names=r_cols1, encoding='latin-1')\n",
    "ratings_test1 = pd.read_csv('u1.test', sep='\\t', names=r_cols1, encoding='latin-1')"
   ]
  },
  {
   "cell_type": "code",
   "execution_count": 25,
   "metadata": {
    "collapsed": true
   },
   "outputs": [],
   "source": [
    "r_cols2 = ['user_id', 'movie_id', 'rating', 'unix_timestamp']\n",
    "ratings_train2 = pd.read_csv('u2.base', sep='\\t', names=r_cols2, encoding='latin-1')\n",
    "ratings_test2 = pd.read_csv('u2.test', sep='\\t', names=r_cols2, encoding='latin-1')"
   ]
  },
  {
   "cell_type": "code",
   "execution_count": 26,
   "metadata": {
    "collapsed": true
   },
   "outputs": [],
   "source": [
    "r_cols3 = ['user_id', 'movie_id', 'rating', 'unix_timestamp']\n",
    "ratings_train3 = pd.read_csv('u3.base', sep='\\t', names=r_cols3, encoding='latin-1')\n",
    "ratings_test3 = pd.read_csv('u3.test', sep='\\t', names=r_cols3, encoding='latin-1')"
   ]
  },
  {
   "cell_type": "code",
   "execution_count": 27,
   "metadata": {
    "collapsed": true
   },
   "outputs": [],
   "source": [
    "r_cols4 = ['user_id', 'movie_id', 'rating', 'unix_timestamp']\n",
    "ratings_train4 = pd.read_csv('u4.base', sep='\\t', names=r_cols4, encoding='latin-1')\n",
    "ratings_test4 = pd.read_csv('u4.test', sep='\\t', names=r_cols4, encoding='latin-1')"
   ]
  },
  {
   "cell_type": "code",
   "execution_count": 28,
   "metadata": {
    "collapsed": true
   },
   "outputs": [],
   "source": [
    "#r_cols5 = ['user_id', 'movie_id', 'rating', 'unix_timestamp']\n",
    "#ratings_train5 = pd.read_csv('u5.base', sep='\\t', names=r_cols, encoding='latin-1')\n",
    "#ratings_test5 = pd.read_csv('u5.test', sep='\\t', names=r_cols, encoding='latin-1')"
   ]
  },
  {
   "cell_type": "markdown",
   "metadata": {},
   "source": [
    "## \"\"\"Convert pandas dataframe trainging rating to numpy training matrix rating\"\"\""
   ]
  },
  {
   "cell_type": "code",
   "execution_count": 29,
   "metadata": {
    "collapsed": true
   },
   "outputs": [],
   "source": [
    "R_train = np.array(ratings_train.pivot(index = 'user_id', columns = 'movie_id',values = 'rating').fillna(0))\n",
    "R_test = np.array(ratings_test.pivot(index = 'user_id', columns = 'movie_id',values = 'rating').fillna(0))"
   ]
  },
  {
   "cell_type": "code",
   "execution_count": 30,
   "metadata": {
    "collapsed": true
   },
   "outputs": [],
   "source": [
    "R_train1 = np.array(ratings_train1.pivot(index = 'user_id',columns = 'movie_id',values = 'rating').fillna(0))\n",
    "R_test1 = np.array(ratings_test1.pivot(index = 'user_id', columns = 'movie_id',values = 'rating').fillna(0))\n"
   ]
  },
  {
   "cell_type": "code",
   "execution_count": 31,
   "metadata": {
    "collapsed": true
   },
   "outputs": [],
   "source": [
    "R_train2 = np.array(ratings_train2.pivot(index = 'user_id', columns = 'movie_id',values = 'rating').fillna(0))\n",
    "R_test2 = np.array(ratings_test2.pivot(index = 'user_id', columns = 'movie_id',values = 'rating').fillna(0))"
   ]
  },
  {
   "cell_type": "code",
   "execution_count": 32,
   "metadata": {
    "collapsed": true
   },
   "outputs": [],
   "source": [
    "R_train3 = np.array(ratings_train3.pivot(index = 'user_id', columns = 'movie_id',values = 'rating').fillna(0))\n",
    "R_test3 = np.array(ratings_test3.pivot(index = 'user_id', columns = 'movie_id',values = 'rating').fillna(0))"
   ]
  },
  {
   "cell_type": "code",
   "execution_count": 33,
   "metadata": {
    "collapsed": true
   },
   "outputs": [],
   "source": [
    "R_train4 = np.array(ratings_train4.pivot(index = 'user_id', columns = 'movie_id',values = 'rating').fillna(0))\n",
    "R_test4 = np.array(ratings_test4.pivot(index = 'user_id', columns = 'movie_id',values = 'rating').fillna(0))"
   ]
  },
  {
   "cell_type": "code",
   "execution_count": 34,
   "metadata": {
    "collapsed": true
   },
   "outputs": [],
   "source": [
    "#R_train5 = np.array(ratings_train5.pivot(index = 'user_id', columns = 'movie_id',values = 'rating').fillna(0))\n",
    "#R_test5 = np.array(ratings_test5.pivot(index = 'user_id', columns = 'movie_id',values = 'rating').fillna(0))"
   ]
  },
  {
   "cell_type": "code",
   "execution_count": 35,
   "metadata": {},
   "outputs": [
    {
     "data": {
      "text/plain": [
       "(943, 1650)"
      ]
     },
     "execution_count": 35,
     "metadata": {},
     "output_type": "execute_result"
    }
   ],
   "source": [
    "R_train2.shape"
   ]
  },
  {
   "cell_type": "code",
   "execution_count": null,
   "metadata": {
    "collapsed": true
   },
   "outputs": [],
   "source": []
  },
  {
   "cell_type": "markdown",
   "metadata": {},
   "source": [
    "#####################"
   ]
  },
  {
   "cell_type": "code",
   "execution_count": 36,
   "metadata": {
    "collapsed": true
   },
   "outputs": [],
   "source": [
    "#ratings_train.ix[:10,:]"
   ]
  },
  {
   "cell_type": "code",
   "execution_count": 37,
   "metadata": {
    "collapsed": true
   },
   "outputs": [],
   "source": [
    "t_data = pd.DataFrame(R_train)\n",
    "t_data.to_csv(\"test3/R_data.csv\")"
   ]
  },
  {
   "cell_type": "code",
   "execution_count": 38,
   "metadata": {
    "collapsed": true
   },
   "outputs": [],
   "source": [
    "class Recommender():\n",
    "    def __init__(self,rating,test_rating,features,learning_rate,momentum):\n",
    "        self.rating= rating\n",
    "        self.test_rating = test_rating\n",
    "        self.num_users = len(rating)\n",
    "        self.num_movies = len(rating[1])\n",
    "        self.num_features = features\n",
    "        self.learning_rate = learning_rate\n",
    "        self.momentum = momentum\n",
    "        #self.iterations = iterations\n",
    "        \n",
    "        #Take the rating of the movies given by user which are not zeros\n",
    "        self.training_samples = [(i,j,self.rating[i,j])\n",
    "                        for i in range(self.num_users)\n",
    "                        for j in range(self.num_movies)\n",
    "                          if self.rating[i,j]>0]\n",
    "        self.test_samples = [(i,j,self.test_rating[i,j])\n",
    "                        for i in range(len(self.test_rating))\n",
    "                        for j in range(len(self.test_rating[1]))\n",
    "                          if self.test_rating[i,j]>0]\n",
    "        \n",
    "    def data_for_initialization(self):\n",
    "        \"\"\"Returns the mean and stadard deviation for the initialization of\n",
    "            features matrices\"\"\"\n",
    "        sum_of_data = 0\n",
    "        length = len(self.training_samples)\n",
    "        for i in range(length):\n",
    "            sum_of_data += self.training_samples[i][2]\n",
    "        data_mean = sum_of_data/length\n",
    "        #init_mean is squart root of mean of the data divided by num of features in feature_matrices\n",
    "        init_mean = math.sqrt((data_mean/self.num_features))\n",
    "        init_sdev = math.sqrt((2/self.num_features))\n",
    "        return init_mean,init_sdev\n",
    "        \n",
    "    def initialize_fetures_matrix(self):\n",
    "        \"\"\"Initialized features matrices with mean and variance\"\"\"\n",
    "        i_mean, st_dev = self.data_for_initialization()\n",
    "        self.user_features = np.random.normal(loc = i_mean,scale = st_dev,size =(self.num_users,self.num_features))\n",
    "        self.movie_features = np.random.normal(loc = i_mean,scale = st_dev,size = (self.num_features,self.num_movies))\n",
    "        #self.movie_features = np.random.randn(self.num_features,self.num_movies)*np.sqrt(2/self.num_features)\n",
    "        \n",
    "        \n",
    "        #To Update the User features and Movie features with MOMENTUM\n",
    "        self.previous_changed_user_features = np.zeros((self.num_features,self.num_movies))\n",
    "        self.previous_changed_movie_features = np.zeros((self.num_users,self.num_features))\n",
    "    \n",
    "    def initialize_feat_from_pretrained_file(self,user_feature,movie_feature):\n",
    "        \"\"\"Initialized the movie features and user features from previous trained\n",
    "            Model\"\"\"\n",
    "        self.user_features = user_feature\n",
    "        self.movie_features = movie_feature\n",
    "        \n",
    "    \n",
    "    def predict_full_matrix(self):\n",
    "        \"\"\"Returns the predictated full matrix using user features and movie\n",
    "            features\"\"\"\n",
    "        predicted_rating = np.matmul(self.user_features,self.movie_features)\n",
    "        return predicted_rating\n",
    "    \n",
    "    def predict_rating(self,user_row,movie_col):\n",
    "        \"\"\"Returns the predictated rating of the position referenced by user_row and movie_column\"\"\"\n",
    "        rating = 0\n",
    "        for i in range(self.num_features):\n",
    "            rating += self.user_features[user_row][i]*self.movie_features[i][movie_col]\n",
    "        return rating\n",
    "    \n",
    "    def error(self,i,j):\n",
    "        \"\"\"Returns the difference between actual rating and predicted rating\"\"\"\n",
    "        predicted_rating = self.predict_rating(i,j)\n",
    "        #print(\"predicted rating\",predicted_rating)\n",
    "        actual_rating = self.rating[i][j]\n",
    "        #print(\"actual rating\",actual_rating)\n",
    "        return (actual_rating-predicted_rating)\n",
    "    \n",
    "    def validation_error(self,i,j):\n",
    "        \"\"\"Returns difference between predicted rating and evaluation rating\"\"\"\n",
    "        predicted_rating = self.predict_rating(i,j)\n",
    "        evaluation_rating = self.test_rating[i,j]\n",
    "        return (abs(evaluation_rating - predicted_rating))\n",
    "    \n",
    "    def stochastic_user_gradient(self,user_row,movie_col):\n",
    "        \"\"\"Calculate the gradient of the user features and Update the user features\"\"\"\n",
    "        error = self.error(user_row,movie_col)\n",
    "        #print(\"error\",error)\n",
    "        #print(type(error))\n",
    "        for i in range(self.num_features):\n",
    "            self.user_features[user_row][i] = (self.user_features[user_row][i] \\\n",
    "                                               + self.learning_rate*error*self.movie_features[i][movie_col]\\\n",
    "                                               - self.momentum* self.previous_changed_user_features[i][movie_col])\n",
    "            self.previous_changed_user_features[i][movie_col] = self.learning_rate*error*self.movie_features[i][movie_col]\n",
    "    \n",
    "    def stochastic_movie_gradient(self,user_row,movie_col):\n",
    "        \"\"\"Calculate the gradient of the movie features and Update the movie features\"\"\"\n",
    "        error = self.error(user_row,movie_col)\n",
    "        for i in range(self.num_features):\n",
    "            self.movie_features[i][movie_col] = (self.movie_features[i][movie_col] \\\n",
    "                                                 + self.learning_rate*error*self.user_features[user_row][i] \\\n",
    "                                               - self.momentum* self.previous_changed_movie_features[user_row][i])\n",
    "            self.previous_changed_movie_features[user_row][i] = self.learning_rate*error*self.user_features[user_row][i]\n",
    "    \n",
    "    \n",
    "    def train(self):\n",
    "        \"\"\"Train the model for given number of iteration \"\"\"\n",
    "        for itn in range(self.iterations):\n",
    "            for row,col,r in self.training_samples:\n",
    "                self.stochastic_user_gradient(row,col)\n",
    "                self.stochastic_movie_gradient(row,col)\n",
    "                \n",
    "    def train_using_evaluation(self):\n",
    "        \"\"\"Train the Model until validation error starts to increase and training mean error\n",
    "            reaches to certain thresold.\n",
    "            Returns number of times validation error increases\n",
    "                    number of iterations model has been trained\n",
    "                    list of training mean errors\n",
    "                    list of validation mean errors\"\"\"\n",
    "        list_of_training_error = []\n",
    "        list_of_validation_error = []\n",
    "        \n",
    "        count = 0\n",
    "        num_of_iterations = 0\n",
    "        validation_mean_error = 0\n",
    "        training_mean_error = 0\n",
    "        #list_of_training_error.append(training_mean_error)\n",
    "        #list_of_validation_error.append(validation_mean_error)\n",
    "        training_length = len(self.training_samples)\n",
    "        test_length = len(self.test_samples)\n",
    "        \n",
    "        while(count<10):\n",
    "            np.random.shuffle(self.training_samples)\n",
    "            training_error = 0\n",
    "            for row,col,r in self.training_samples:\n",
    "                self.stochastic_user_gradient(row,col)\n",
    "                self.stochastic_movie_gradient(row,col)\n",
    "                training_error += abs(r-self.predict_rating(row,col))\n",
    "            training_mean_error = (training_error/training_length)\n",
    "            list_of_training_error.append(training_mean_error)\n",
    "\n",
    "            pre_validation_mean_error = validation_mean_error\n",
    "            validation_error = 0\n",
    "            for row,col,r in self.test_samples:\n",
    "                validation_error += abs(r - self.predict_rating(row,col))\n",
    "            validation_mean_error = (validation_error/test_length)\n",
    "            list_of_validation_error.append(validation_mean_error)\n",
    "            if(pre_validation_mean_error < validation_mean_error):\n",
    "                count += 1\n",
    "            num_of_iterations += 1\n",
    "        return (count,num_of_iterations,list_of_training_error,list_of_validation_error)\n",
    "        \n",
    "    def get_user_features(self):\n",
    "        \"\"\"Returns the User features matrix\n",
    "               It can be used later for the initialization purpose for the same User\n",
    "               features matrix. It helps to save a lot of computation power \"\"\"\n",
    "        return (self.user_features)\n",
    "\n",
    "    \n",
    "    def get_movie_features(self):\n",
    "        \"\"\"Returns the movie features matrix\n",
    "               It can be used later for the initialization purpose for the same movie\n",
    "                features matrix. It helps to save a lot of computation power \"\"\"\n",
    "        return self.movie_features\n",
    "    def get_test_samples(self):\n",
    "        \"\"\"Return list of tuples which contain rating and its coordinate\n",
    "            corresponding to User Id and Movie Id\"\"\"\n",
    "        return (self.test_samples)"
   ]
  },
  {
   "cell_type": "code",
   "execution_count": 47,
   "metadata": {
    "collapsed": true
   },
   "outputs": [],
   "source": [
    "#Constructor for the Recommender system\n",
    "#Rating,features,learning_rate,momentum,iterations\n",
    "rm = Recommender(R_train,R_test,100,0.001,0.6)"
   ]
  },
  {
   "cell_type": "code",
   "execution_count": 48,
   "metadata": {
    "collapsed": true
   },
   "outputs": [],
   "source": [
    "\"\"\"Load User features and Movie features\"\"\"\n",
    "file_user_data = pd.read_csv(\"user_features_data.csv\")\n",
    "new_user_features = file_user_data.as_matrix()        "
   ]
  },
  {
   "cell_type": "code",
   "execution_count": 49,
   "metadata": {
    "scrolled": true
   },
   "outputs": [
    {
     "name": "stdout",
     "output_type": "stream",
     "text": [
      "Num of users  943\n",
      "Num of movies 1680\n",
      "Num of latent features 100\n",
      "Learning rate 0.001\n"
     ]
    }
   ],
   "source": [
    "#Initilize the features matrices, User features and Movie features\n",
    "rm.initialize_fetures_matrix()\n",
    "print(\"Num of users \", rm.num_users)\n",
    "print(\"Num of movies\", rm.num_movies)\n",
    "print(\"Num of latent features\", rm.num_features)\n",
    "print(\"Learning rate\",rm.learning_rate)"
   ]
  },
  {
   "cell_type": "markdown",
   "metadata": {},
   "source": [
    "# Model initialization for ensemble"
   ]
  },
  {
   "cell_type": "code",
   "execution_count": 50,
   "metadata": {
    "collapsed": true
   },
   "outputs": [],
   "source": [
    "#Constructor for the Model1\n",
    "#Rating,features,learning_rate,momentum,iterations\n",
    "rm1 = Recommender(R_train1,R_test1,100,0.001,0.6)\n",
    "#Initilize the features matrices, User features and Movie features for Model 1\n",
    "rm1.initialize_fetures_matrix()"
   ]
  },
  {
   "cell_type": "code",
   "execution_count": 51,
   "metadata": {
    "collapsed": true
   },
   "outputs": [],
   "source": [
    "#Constructor for the Model2\n",
    "#Rating,features,learning_rate,momentum,iterations\n",
    "rm2 = Recommender(R_train2,R_test2,100,0.001,0.1)\n",
    "#Initilize the features matrices, User features and Movie features for Model 2\n",
    "rm2.initialize_fetures_matrix()"
   ]
  },
  {
   "cell_type": "code",
   "execution_count": 52,
   "metadata": {
    "collapsed": true
   },
   "outputs": [],
   "source": [
    "### Constructor for the Model3\n",
    "#Rating,features,learning_rate,momentum,iterations\n",
    "rm3 = Recommender(R_train3,R_test3,100,0.001,0.4)\n",
    "#Initilize the features matrices, User features and Movie features for Model 3\n",
    "rm3.initialize_fetures_matrix()"
   ]
  },
  {
   "cell_type": "code",
   "execution_count": 53,
   "metadata": {
    "collapsed": true
   },
   "outputs": [],
   "source": [
    "#Constructor for the Model4\n",
    "#Rating,features,learning_rate,momentum,iterations\n",
    "rm4 = Recommender(R_train4,R_test4,100,0.001,0.4)\n",
    "#Initilize the features matrices, User features and Movie features for Model 4\n",
    "rm4.initialize_fetures_matrix()"
   ]
  },
  {
   "cell_type": "code",
   "execution_count": 54,
   "metadata": {
    "collapsed": true
   },
   "outputs": [],
   "source": [
    "#Constructor for the Model5\n",
    "#Rating,features,learning_rate,momentum,iterations\n",
    "##rm5 = Recommender(R_train5,R_test5,100,0.001,0.6)\n",
    "#Initilize the features matrices, User features and Movie features for Model 5\n",
    "##rm5.initialize_fetures_matrix()"
   ]
  },
  {
   "cell_type": "markdown",
   "metadata": {},
   "source": [
    "# Model training for ensemble"
   ]
  },
  {
   "cell_type": "code",
   "execution_count": 55,
   "metadata": {
    "collapsed": true
   },
   "outputs": [],
   "source": [
    "count,num_of_iterations,list_of_training_error,list_of_validation_error = rm.train_using_evaluation()"
   ]
  },
  {
   "cell_type": "code",
   "execution_count": 56,
   "metadata": {
    "collapsed": true
   },
   "outputs": [],
   "source": [
    "count1,num_of_iterations1,list_of_training_error1,list_of_validation_error1 = rm1.train_using_evaluation()"
   ]
  },
  {
   "cell_type": "code",
   "execution_count": 57,
   "metadata": {
    "collapsed": true
   },
   "outputs": [],
   "source": [
    "count2,num_of_iterations2,list_of_training_error2,list_of_validation_error2 = rm2.train_using_evaluation()"
   ]
  },
  {
   "cell_type": "code",
   "execution_count": 58,
   "metadata": {
    "collapsed": true
   },
   "outputs": [],
   "source": [
    "count3,num_of_iterations3,list_of_training_error3,list_of_validation_error3 = rm3.train_using_evaluation()"
   ]
  },
  {
   "cell_type": "code",
   "execution_count": 59,
   "metadata": {
    "collapsed": true
   },
   "outputs": [],
   "source": [
    "count4,num_of_iterations4,list_of_training_error4,list_of_validation_error4 = rm4.train_using_evaluation()"
   ]
  },
  {
   "cell_type": "code",
   "execution_count": 60,
   "metadata": {},
   "outputs": [
    {
     "data": {
      "text/plain": [
       "'#count5,num_of_iterations5,list_of_training_error5,list_of_validation_error5 = rm5.train_using_evaluation()'"
      ]
     },
     "execution_count": 60,
     "metadata": {},
     "output_type": "execute_result"
    }
   ],
   "source": [
    "\"\"\"#count5,num_of_iterations5,list_of_training_error5,list_of_validation_error5 = rm5.train_using_evaluation()\"\"\""
   ]
  },
  {
   "cell_type": "markdown",
   "metadata": {},
   "source": [
    "# Display the evaluation and training error"
   ]
  },
  {
   "cell_type": "code",
   "execution_count": 62,
   "metadata": {
    "collapsed": true
   },
   "outputs": [],
   "source": [
    "list_of_iteration = []\n",
    "for i in range(num_of_iterations):\n",
    "    list_of_iteration.append(i)"
   ]
  },
  {
   "cell_type": "code",
   "execution_count": 63,
   "metadata": {
    "collapsed": true
   },
   "outputs": [],
   "source": [
    "list_of_iteration1 = []\n",
    "for i in range(num_of_iterations1):\n",
    "    list_of_iteration1.append(i)\n",
    "\n",
    "list_of_iteration2 = []\n",
    "for i in range(num_of_iterations2):\n",
    "    list_of_iteration2.append(i)\n",
    "\n",
    "list_of_iteration3 = []\n",
    "for i in range(num_of_iterations3):\n",
    "    list_of_iteration3.append(i)\n",
    "\n",
    "list_of_iteration4 = []\n",
    "for i in range(num_of_iterations4):\n",
    "    list_of_iteration4.append(i)\n"
   ]
  },
  {
   "cell_type": "code",
   "execution_count": 64,
   "metadata": {
    "collapsed": true
   },
   "outputs": [],
   "source": [
    "total_ev_error = sum(list_of_validation_error)/len(list_of_validation_error) \n",
    "\n",
    "total_ev_error1 = sum(list_of_validation_error1)/len(list_of_validation_error1) \n",
    "total_ev_error2 = sum(list_of_validation_error2)/len(list_of_validation_error2)\n",
    "total_ev_error3 = sum(list_of_validation_error3)/len(list_of_validation_error3)\n",
    "total_ev_error4 = sum(list_of_validation_error4)/len(list_of_validation_error4)"
   ]
  },
  {
   "cell_type": "markdown",
   "metadata": {},
   "source": [
    "\"\"\"print(list_of_validation_error)\n",
    "total = sum(list_of_validation_error)/len(list_of_validation_error)\n",
    "print(total)\"\"\""
   ]
  },
  {
   "cell_type": "code",
   "execution_count": 65,
   "metadata": {},
   "outputs": [
    {
     "data": {
      "image/png": "[encoded data removed]",
      "text/plain": [
       "<matplotlib.figure.Figure at 0x7fcfea6a7518>"
      ]
     },
     "metadata": {},
     "output_type": "display_data"
    }
   ],
   "source": [
    "plt.plot(list_of_iteration,list_of_training_error,'r',list_of_iteration,list_of_validation_error,'b')\n",
    "plt.xlabel('Number of iterations')\n",
    "plt.ylabel('Error')\n",
    "plt.title('Training and Validation mean Error vs Iterations')\n",
    "plt.gca().legend(('training error','validation error'))\n",
    "plt.text(18,0.88,total_ev_error)\n",
    "plt.show()"
   ]
  },
  {
   "cell_type": "code",
   "execution_count": 66,
   "metadata": {},
   "outputs": [
    {
     "data": {
      "image/png": "[encoded data removed]",
      "text/plain": [
       "<matplotlib.figure.Figure at 0x7fcfed20fd68>"
      ]
     },
     "metadata": {},
     "output_type": "display_data"
    }
   ],
   "source": [
    "plt.plot(list_of_iteration1,list_of_training_error1,'r',list_of_iteration1,list_of_validation_error1,'b')\n",
    "plt.xlabel('Number of iterations')\n",
    "plt.ylabel('Error')\n",
    "plt.title('Training and Validation mean Error vs Iterations for Model 1')\n",
    "plt.gca().legend(('training error','validation error'))\n",
    "plt.text(20,0.88,total_ev_error1)\n",
    "plt.show()"
   ]
  },
  {
   "cell_type": "code",
   "execution_count": 67,
   "metadata": {
    "scrolled": true
   },
   "outputs": [
    {
     "data": {
      "image/png": "[encoded data removed]",
      "text/plain": [
       "<matplotlib.figure.Figure at 0x7fcfe922e208>"
      ]
     },
     "metadata": {},
     "output_type": "display_data"
    }
   ],
   "source": [
    "plt.plot(list_of_iteration2,list_of_training_error2,'r',list_of_iteration2,list_of_validation_error2,'b')\n",
    "plt.xlabel('Number of iterations')\n",
    "plt.ylabel('Error')\n",
    "plt.title('Training and Validation mean Error vs Iterations for Model 2')\n",
    "plt.gca().legend(('training error','validation error'))\n",
    "plt.text(18,0.88,total_ev_error2)\n",
    "plt.show()"
   ]
  },
  {
   "cell_type": "code",
   "execution_count": 68,
   "metadata": {},
   "outputs": [
    {
     "data": {
      "image/png": "[encoded data removed]",
      "text/plain": [
       "<matplotlib.figure.Figure at 0x7fcfe99d3240>"
      ]
     },
     "metadata": {},
     "output_type": "display_data"
    }
   ],
   "source": [
    "plt.plot(list_of_iteration3,list_of_training_error3,'r',list_of_iteration3,list_of_validation_error3,'b')\n",
    "plt.xlabel('Number of iterations')\n",
    "plt.ylabel('Error')\n",
    "plt.title('Training and Validation mean Error vs Iterations for Model 3')\n",
    "plt.gca().legend(('training error','validation error'))\n",
    "plt.text(10,0.88,total_ev_error3)\n",
    "plt.show()"
   ]
  },
  {
   "cell_type": "code",
   "execution_count": 69,
   "metadata": {},
   "outputs": [
    {
     "data": {
      "image/png": "[encoded data removed]",
      "text/plain": [
       "<matplotlib.figure.Figure at 0x7fcfe99050b8>"
      ]
     },
     "metadata": {},
     "output_type": "display_data"
    }
   ],
   "source": [
    "plt.plot(list_of_iteration4,list_of_training_error4,'r',list_of_iteration4,list_of_validation_error4,'b')\n",
    "plt.xlabel('Number of iterations')\n",
    "plt.ylabel('Error')\n",
    "plt.title('Training and Validation mean Error vs Iterations for Model 4')\n",
    "plt.gca().legend(('training error','validation error'))\n",
    "plt.text(15,0.88,total_ev_error4)\n",
    "plt.show()"
   ]
  },
  {
   "cell_type": "markdown",
   "metadata": {},
   "source": [
    "# Get User features and Movie features for 4 Models"
   ]
  },
  {
   "cell_type": "code",
   "execution_count": 70,
   "metadata": {
    "collapsed": true
   },
   "outputs": [],
   "source": [
    "user_features = rm.get_user_features()\n",
    "movie_features = rm.get_movie_features()\n",
    "\n",
    "user_features1 = rm1.get_user_features()\n",
    "movie_features1 = rm1.get_movie_features()\n",
    "\n",
    "user_features2 = rm2.get_user_features()\n",
    "movie_features2 = rm2.get_movie_features()\n",
    "\n",
    "user_features3 = rm3.get_user_features()\n",
    "movie_features3 = rm3.get_movie_features()\n",
    "\n",
    "user_features4 = rm4.get_user_features()\n",
    "movie_features4 = rm4.get_movie_features()\n"
   ]
  },
  {
   "cell_type": "markdown",
   "metadata": {},
   "source": [
    "# Save User features and Movie features for 4 Models"
   ]
  },
  {
   "cell_type": "code",
   "execution_count": 71,
   "metadata": {
    "collapsed": true
   },
   "outputs": [],
   "source": [
    "user_feat_data1 = pd.DataFrame(user_features1)\n",
    "user_feat_data1.to_csv(\"trained_data/trained1/user_features_data.csv\",header = None, index=None)\n",
    "movie_feat_data1 = pd.DataFrame(movie_features1)\n",
    "movie_feat_data1.to_csv(\"trained_data/trained1/movie_features_data.csv\",header=None,index=None)\n",
    "\n",
    "user_feat_data2 = pd.DataFrame(user_features2)\n",
    "user_feat_data2.to_csv(\"trained_data/trained2/user_features_data.csv\",header = None, index=None)\n",
    "movie_feat_data2 = pd.DataFrame(movie_features2)\n",
    "movie_feat_data2.to_csv(\"trained_data/trained2/movie_features_data.csv\",header=None,index=None)\n",
    "\n",
    "user_feat_data3 = pd.DataFrame(user_features3)\n",
    "user_feat_data3.to_csv(\"trained_data/trained3/user_features_data.csv\",header = None, index=None)\n",
    "movie_feat_data3 =pd.DataFrame(movie_features3)\n",
    "movie_feat_data3.to_csv(\"trained_data/trained3/movie_features_data.csv\",header=None,index=None)\n",
    "\n",
    "user_feat_data4 = pd.DataFrame(user_features4)\n",
    "user_feat_data4.to_csv(\"trained_data/trained4/user_features_data.csv\",header = None, index=None)\n",
    "movie_feat_data4 = pd.DataFrame(movie_features4)\n",
    "movie_feat_data4.to_csv(\"trained_data/trained4/movie_features_data.csv\",header=None,index=None)\n"
   ]
  },
  {
   "cell_type": "markdown",
   "metadata": {},
   "source": [
    "# Load user features and movie features  from the csv file"
   ]
  },
  {
   "cell_type": "code",
   "execution_count": 72,
   "metadata": {},
   "outputs": [
    {
     "data": {
      "text/plain": [
       "'user_data1 = pd.read_csv(\"trained_data/trained1/user_features_data.csv\")\\nuser_features1 = user_data1.as_matrix() \\nmovie_data1 = pd.read_csv(\"trained_data/trained1/movie_features_data.csv\")\\nmovie_features1 = movie_data1.as_matrix()\\n\\nuser_data2 = pd.read_csv(\"trained_data/trained2/user_features_data.csv\")\\nuser_features2 = user_data2.as_matrix() \\nmovie_data2 = pd.read_csv(\"trained_data/trained2/movie_features_data.csv\")\\nmovie_features2 = movie_data2.as_matrix()\\n\\nuser_data3 = pd.read_csv(\"trained_data/trained3/user_features_data.csv\")\\nuser_features3 = user_data3.as_matrix() \\nmovie_data3 = pd.read_csv(\"trained_data/trained3/movie_features_data.csv\")\\nmovie_features3 = movie_data3.as_matrix()\\n\\nuser_data4 = pd.read_csv(\"trained_data/trained4/user_features_data.csv\")\\nuser_features4 = user_data4.as_matrix() \\nmovie_data4 = pd.read_csv(\"trained_data/trained4/movie_features_data.csv\")\\nmovie_features4 = movie_data4.as_matrix()\\n\\nuser_data5 = pd.read_csv(\"trained_data/trained5/user_features_data.csv\")\\nnew_user_features5 = user_data5.as_matrix() \\nmovie_data5 = pd.read_csv(\"trained_data/trained5/movie_features_data.csv\")\\nnew_movie_features5 = movie_data5.as_matrix()'"
      ]
     },
     "execution_count": 72,
     "metadata": {},
     "output_type": "execute_result"
    }
   ],
   "source": [
    "\"\"\"Load User features and Movie features from csv and convert into numpy matrix\"\"\"\n",
    "\n",
    "\"\"\"user_data1 = pd.read_csv(\"trained_data/trained1/user_features_data.csv\")\n",
    "user_features1 = user_data1.as_matrix() \n",
    "movie_data1 = pd.read_csv(\"trained_data/trained1/movie_features_data.csv\")\n",
    "movie_features1 = movie_data1.as_matrix()\n",
    "\n",
    "user_data2 = pd.read_csv(\"trained_data/trained2/user_features_data.csv\")\n",
    "user_features2 = user_data2.as_matrix() \n",
    "movie_data2 = pd.read_csv(\"trained_data/trained2/movie_features_data.csv\")\n",
    "movie_features2 = movie_data2.as_matrix()\n",
    "\n",
    "user_data3 = pd.read_csv(\"trained_data/trained3/user_features_data.csv\")\n",
    "user_features3 = user_data3.as_matrix() \n",
    "movie_data3 = pd.read_csv(\"trained_data/trained3/movie_features_data.csv\")\n",
    "movie_features3 = movie_data3.as_matrix()\n",
    "\n",
    "user_data4 = pd.read_csv(\"trained_data/trained4/user_features_data.csv\")\n",
    "user_features4 = user_data4.as_matrix() \n",
    "movie_data4 = pd.read_csv(\"trained_data/trained4/movie_features_data.csv\")\n",
    "movie_features4 = movie_data4.as_matrix()\n",
    "\n",
    "user_data5 = pd.read_csv(\"trained_data/trained5/user_features_data.csv\")\n",
    "new_user_features5 = user_data5.as_matrix() \n",
    "movie_data5 = pd.read_csv(\"trained_data/trained5/movie_features_data.csv\")\n",
    "new_movie_features5 = movie_data5.as_matrix()\"\"\"\n",
    "\n"
   ]
  },
  {
   "cell_type": "markdown",
   "metadata": {},
   "source": [
    "# Build One model from Four models"
   ]
  },
  {
   "cell_type": "code",
   "execution_count": 73,
   "metadata": {},
   "outputs": [],
   "source": [
    "\"\"\"Average of user features and movie features\"\"\"\n",
    "final_user_features = (user_features1 + user_features2 + user_features3 + user_features4)/4\n",
    "final_movie_features = (movie_features1 + movie_features2 + movie_features3 + movie_features4)/4\n"
   ]
  },
  {
   "cell_type": "markdown",
   "metadata": {},
   "source": [
    "# Predict final Rating"
   ]
  },
  {
   "cell_type": "code",
   "execution_count": 74,
   "metadata": {},
   "outputs": [],
   "source": [
    "final_prediction = np.matmul(final_user_features,final_movie_features)\n",
    "predicted_new = np.matmul(user_features,movie_features)"
   ]
  },
  {
   "cell_type": "code",
   "execution_count": 75,
   "metadata": {
    "collapsed": true
   },
   "outputs": [],
   "source": [
    "for i in range(943):\n",
    "    for j in range(1650):\n",
    "        if(final_prediction[i][j]<0):\n",
    "            final_prediction[i][j]=0\n",
    "        if(final_prediction[i][j]>5):\n",
    "            final_prediction[i][j]=5\n",
    "            \n",
    "        if(predicted_new[i][j]<0):\n",
    "            predicted_new[i][j]=0\n",
    "        if(predicted_new[i][j]>5):\n",
    "            predicted_new[i][j]=5\n",
    "        "
   ]
  },
  {
   "cell_type": "markdown",
   "metadata": {},
   "source": [
    "# Final Absolute Mean Evaluation Error"
   ]
  },
  {
   "cell_type": "code",
   "execution_count": 79,
   "metadata": {},
   "outputs": [
    {
     "data": {
      "text/plain": [
       "3.4040939185207515"
      ]
     },
     "execution_count": 79,
     "metadata": {},
     "output_type": "execute_result"
    }
   ],
   "source": [
    "final_prediction[0][4]"
   ]
  },
  {
   "cell_type": "code",
   "execution_count": 132,
   "metadata": {},
   "outputs": [
    {
     "name": "stdout",
     "output_type": "stream",
     "text": [
      "Test Mean Error Using Ensemble Model =  0.8783534701603588\n",
      "Test Mean error with single Model =  0.9141382791882015\n"
     ]
    }
   ],
   "source": [
    "new_test_samples = [(i,j,R_test[i,j])\n",
    "                        for i in range(len(R_test))\n",
    "                        for j in range(len(R_test))\n",
    "                          if R_test[i,j]>0]\n",
    "\"\"\"With Ensemble\"\"\"       \n",
    "test_error = 0\n",
    "test_mean_error = 0\n",
    "for row,col,r in new_test_samples:\n",
    "    test_error += abs(r -final_prediction[row][col])\n",
    "test_mean_error = (test_error/len(new_test_samples))\n",
    "print(\"Test Mean Error Using Ensemble Model = \",test_mean_error)\n",
    "\n",
    "###########################################################################################\n",
    "\"\"\"Without Ensemble\"\"\"\n",
    "test_error1 = 0\n",
    "test_mean_error1 = 0\n",
    "for row,col,r in new_test_samples:\n",
    "    test_error1 += abs(r -predicted_new[row][col])\n",
    "test_mean_error1 = (test_error1/len(new_test_samples))\n",
    "print(\"Test Mean error with single Model = \",test_mean_error1)\n",
    "\n",
    "        "
   ]
  },
  {
   "cell_type": "markdown",
   "metadata": {},
   "source": [
    "## Sample predicted ratings"
   ]
  },
  {
   "cell_type": "code",
   "execution_count": 111,
   "metadata": {},
   "outputs": [
    {
     "name": "stdout",
     "output_type": "stream",
     "text": [
      "Actual 3.0\n",
      "Ensemble Prediction 3.019198669959305\n",
      "Actual 3.0\n",
      "With single model Prediction 2.9625233031336844\n",
      "\n",
      "Actual 4.0\n",
      "Ensemble Prediction 3.722589998106908\n",
      "Actual 4.0\n",
      "With single model Prediction 3.419795090295758\n",
      "\n",
      "Actual 2.0\n",
      "Ensemble Prediction 2.2201219047936545\n",
      "Actual 2.0\n",
      "With single model Prediction 2.448617562079471\n",
      "\n",
      "Actual 4.0\n",
      "Ensemble Prediction 3.87296946908465\n",
      "Actual 4.0\n",
      "With single model Prediction 4.192773251073437\n"
     ]
    }
   ],
   "source": [
    "i = 60   # Sample number\n",
    "r,c = test_samples[i][0],test_samples[i][1]\n",
    "print(\"Actual\",test_samples[i][2])\n",
    "print(\"Ensemble Prediction\",final_prediction[r][c])\n",
    "\n",
    "r,c = test_samples[i][0],test_samples[i][1]\n",
    "print(\"Actual\",test_samples[i][2])\n",
    "print(\"With single model Prediction\",predicted_new[r][c])\n",
    "print()\n",
    "\n",
    "i = 345  # Sample number\n",
    "r,c = test_samples[i][0],test_samples[i][1]\n",
    "print(\"Actual\",test_samples[i][2])\n",
    "print(\"Ensemble Prediction\",final_prediction[r][c])\n",
    "\n",
    "r,c = test_samples[i][0],test_samples[i][1]\n",
    "print(\"Actual\",test_samples[i][2])\n",
    "print(\"With single model Prediction\",predicted_new[r][c])\n",
    "print()\n",
    "\n",
    "i = 8745  # Sample number\n",
    "r,c = test_samples[i][0],test_samples[i][1]\n",
    "print(\"Actual\",test_samples[i][2])\n",
    "print(\"Ensemble Prediction\",final_prediction[r][c])\n",
    "\n",
    "r,c = test_samples[i][0],test_samples[i][1]\n",
    "print(\"Actual\",test_samples[i][2])\n",
    "print(\"With single model Prediction\",predicted_new[r][c])\n",
    "print()\n",
    "\n",
    "i = 3421  # Sample number\n",
    "r,c = test_samples[i][0],test_samples[i][1]\n",
    "print(\"Actual\",test_samples[i][2])\n",
    "print(\"Ensemble Prediction\",final_prediction[r][c])\n",
    "\n",
    "r,c = test_samples[i][0],test_samples[i][1]\n",
    "print(\"Actual\",test_samples[i][2])\n",
    "print(\"With single model Prediction\",predicted_new[r][c])"
   ]
  },
  {
   "cell_type": "code",
   "execution_count": null,
   "metadata": {
    "collapsed": true
   },
   "outputs": [],
   "source": []
  },
  {
   "cell_type": "markdown",
   "metadata": {},
   "source": [
    "# Evaluation Using T-test\n",
    "## T-Test compare results obtained with two different methods A and B on the same sample, in order to confirm whether both methods provide similar analytical results or not."
   ]
  },
  {
   "cell_type": "code",
   "execution_count": 112,
   "metadata": {
    "collapsed": true
   },
   "outputs": [],
   "source": [
    "class Evaluation:\n",
    "    \"\"\"Evaluate  Recommender using T-test\n",
    "        Real population is list of tupples in format(row,col,rating)\n",
    "        Predicted population is two dimensional array\"\"\"\n",
    "    def __init__(self,real_population,predicted_population,num_samples,conf_interval):\n",
    "        self.real_population = real_population\n",
    "        self.predicted_population = predicted_population\n",
    "        self.num_samples = num_samples\n",
    "        self.conf_interval = conf_interval\n",
    "    \n",
    "    def get_rating(self):\n",
    "        \"\"\"Returns list of two samples for the t test from \n",
    "            given population\n",
    "            First sample is list of Actual rating\n",
    "            Second sample is list of Predicted rating\"\"\"\n",
    "        r_count = 0\n",
    "        list_real_samples = []\n",
    "        list_predicted_samples = []\n",
    "        np.random.shuffle(self.real_population)\n",
    "        for i in range(self.num_samples):\n",
    "            r_sample = self.real_population[i]\n",
    "            list_real_samples.append(r_sample[2])\n",
    "            row = r_sample[0]\n",
    "            col = r_sample[1]\n",
    "            list_predicted_samples.append(self.predicted_population[row][col])\n",
    "        return (list_real_samples,list_predicted_samples)\n",
    "    \n",
    "    def calculate_tvalue(self):\n",
    "        \"\"\"Calculate t value from two samples \n",
    "            i.e. Actual rating and Predicted rating\n",
    "            Returns T-calculated value\"\"\"\n",
    "        real_value, predicted_value = self.get_rating()\n",
    "        mean1 = np.mean(real_value,dtype = np.float64)\n",
    "        mean2 = np.mean(predicted_value, dtype = np.float64)\n",
    "        std1 = np.std(real_value, dtype = np.float64)\n",
    "        std2 = np.std(predicted_value, dtype = np.float64)\n",
    "        n1 = len(real_value)\n",
    "        n2 = len(predicted_value)\n",
    "        t_value = (mean1 - mean2)/(math.sqrt(((std1**2)/n1 + (std2**2)/n2)))\n",
    "        return t_value\n",
    "    \n",
    "    def calculate_critical_tvalue(self):\n",
    "        \"\"\"Calculate critical t value from the t-distribution table\n",
    "            for a given alpha,confidence interval and degree of freedom\n",
    "            Returns T-theoritical value\"\"\"\n",
    "        degree_freedom = 2*(self.num_samples -1)\n",
    "        #self.conf_interval should be the lower tail probability\n",
    "        t_critical = stats.t.ppf(self.conf_interval,degree_freedom)  #stats.t.cdf\n",
    "        return t_critical\n",
    "    \n",
    "    def define_hypothesis(self):\n",
    "        \"\"\"Determine whether the null Hypothesis is accepted or not\"\"\"\n",
    "        cal_value = abs(self.calculate_tvalue())\n",
    "        cri_value = abs(self.calculate_critical_tvalue())\n",
    "        if((cal_value)<(cri_value)):\n",
    "            print(\"Null Hypothesis is accepted,\\\n",
    "            i.e. both actual ratings and predicted ratings provide the same analytical results.\")\n",
    "        else:\n",
    "            print(\"Null Hypothesis is rejected,\\\n",
    "            i.e.actual ratings and predicted ratings provide different analytical results\")\n"
   ]
  },
  {
   "cell_type": "code",
   "execution_count": 113,
   "metadata": {
    "collapsed": true
   },
   "outputs": [],
   "source": [
    "ev = Evaluation(test_samples,final_prediction,30,0.05)"
   ]
  },
  {
   "cell_type": "code",
   "execution_count": 116,
   "metadata": {},
   "outputs": [
    {
     "name": "stdout",
     "output_type": "stream",
     "text": [
      "Null Hypothesis is accepted,            i.e. both actual ratings and predicted ratings provide the same analytical results.\n"
     ]
    }
   ],
   "source": [
    "ev.define_hypothesis()"
   ]
  },
  {
   "cell_type": "markdown",
   "metadata": {},
   "source": [
    "## Get movies that has not been watched by user 'N' form pool of all  movies"
   ]
  },
  {
   "cell_type": "code",
   "execution_count": 117,
   "metadata": {
    "collapsed": true
   },
   "outputs": [],
   "source": [
    "def get_movie_to_recommend(actual_matrix,trained_matrix,user_num):\n",
    "    \"\"\"Extract movies, that has not been watched by User yet,\n",
    "    from Pool of all movies\"\"\"\n",
    "    user_num = user_num-1\n",
    "    list_rec_movies = {}\n",
    "    length = len(actual_matrix[user_num])\n",
    "    for i in range(length):\n",
    "        if actual_matrix[user_num][i] == 0:\n",
    "            list_rec_movies[i] = trained_matrix[user_num][i]\n",
    "    return list_rec_movies\n",
    "            "
   ]
  },
  {
   "cell_type": "markdown",
   "metadata": {},
   "source": [
    "### Last value of the constructor represent user number"
   ]
  },
  {
   "cell_type": "code",
   "execution_count": 118,
   "metadata": {
    "collapsed": true
   },
   "outputs": [],
   "source": [
    "movies_not_watched = get_movie_to_recommend(R_train,predicted_new,10)"
   ]
  },
  {
   "cell_type": "markdown",
   "metadata": {},
   "source": [
    "### Sort all movies that has not been watched by user N based on the rating predicted\n",
    "### by Recommender system"
   ]
  },
  {
   "cell_type": "code",
   "execution_count": 119,
   "metadata": {
    "collapsed": true
   },
   "outputs": [],
   "source": [
    "def sort_movie_rating(movies_list,num_ofmovies_torec):\n",
    "    \"\"\"Returns top N numbers of movies recommended to a particular User\"\"\"\n",
    "    sorted_movies_rating = sorted(movies_list.items(),key = lambda movies_list: movies_list[1], reverse = True)\n",
    "    movies_torecommend = []\n",
    "    for i in range(num_ofmovies_torec):\n",
    "        movies_torecommend.append(sorted_movies_rating[i])\n",
    "    return movies_torecommend\n",
    "        "
   ]
  },
  {
   "cell_type": "code",
   "execution_count": 120,
   "metadata": {
    "collapsed": true
   },
   "outputs": [],
   "source": [
    "num_ofmovies_torec = 10\n",
    "top_movies_to_recommend = sort_movie_rating(movies_not_watched,num_ofmovies_torec)\n"
   ]
  },
  {
   "cell_type": "code",
   "execution_count": 121,
   "metadata": {},
   "outputs": [
    {
     "data": {
      "text/html": [
       "<div>\n",
       "<style>\n",
       "    .dataframe thead tr:only-child th {\n",
       "        text-align: right;\n",
       "    }\n",
       "\n",
       "    .dataframe thead th {\n",
       "        text-align: left;\n",
       "    }\n",
       "\n",
       "    .dataframe tbody tr th {\n",
       "        vertical-align: top;\n",
       "    }\n",
       "</style>\n",
       "<table border=\"1\" class=\"dataframe\">\n",
       "  <thead>\n",
       "    <tr style=\"text-align: right;\">\n",
       "      <th></th>\n",
       "      <th>movie id</th>\n",
       "      <th>movie title</th>\n",
       "      <th>release date</th>\n",
       "      <th>video release date</th>\n",
       "      <th>IMDb URL</th>\n",
       "      <th>unknown</th>\n",
       "      <th>Action</th>\n",
       "      <th>Adventure</th>\n",
       "      <th>Animation</th>\n",
       "      <th>Children's</th>\n",
       "      <th>...</th>\n",
       "      <th>Fantasy</th>\n",
       "      <th>Film-Noir</th>\n",
       "      <th>Horror</th>\n",
       "      <th>Musical</th>\n",
       "      <th>Mystery</th>\n",
       "      <th>Romance</th>\n",
       "      <th>Sci-Fi</th>\n",
       "      <th>Thriller</th>\n",
       "      <th>War</th>\n",
       "      <th>Western</th>\n",
       "    </tr>\n",
       "  </thead>\n",
       "  <tbody>\n",
       "    <tr>\n",
       "      <th>0</th>\n",
       "      <td>1</td>\n",
       "      <td>Toy Story (1995)</td>\n",
       "      <td>01-Jan-1995</td>\n",
       "      <td>NaN</td>\n",
       "      <td>http://us.imdb.com/M/title-exact?Toy%20Story%2...</td>\n",
       "      <td>0</td>\n",
       "      <td>0</td>\n",
       "      <td>0</td>\n",
       "      <td>1</td>\n",
       "      <td>1</td>\n",
       "      <td>...</td>\n",
       "      <td>0</td>\n",
       "      <td>0</td>\n",
       "      <td>0</td>\n",
       "      <td>0</td>\n",
       "      <td>0</td>\n",
       "      <td>0</td>\n",
       "      <td>0</td>\n",
       "      <td>0</td>\n",
       "      <td>0</td>\n",
       "      <td>0</td>\n",
       "    </tr>\n",
       "    <tr>\n",
       "      <th>1</th>\n",
       "      <td>2</td>\n",
       "      <td>GoldenEye (1995)</td>\n",
       "      <td>01-Jan-1995</td>\n",
       "      <td>NaN</td>\n",
       "      <td>http://us.imdb.com/M/title-exact?GoldenEye%20(...</td>\n",
       "      <td>0</td>\n",
       "      <td>1</td>\n",
       "      <td>1</td>\n",
       "      <td>0</td>\n",
       "      <td>0</td>\n",
       "      <td>...</td>\n",
       "      <td>0</td>\n",
       "      <td>0</td>\n",
       "      <td>0</td>\n",
       "      <td>0</td>\n",
       "      <td>0</td>\n",
       "      <td>0</td>\n",
       "      <td>0</td>\n",
       "      <td>1</td>\n",
       "      <td>0</td>\n",
       "      <td>0</td>\n",
       "    </tr>\n",
       "    <tr>\n",
       "      <th>2</th>\n",
       "      <td>3</td>\n",
       "      <td>Four Rooms (1995)</td>\n",
       "      <td>01-Jan-1995</td>\n",
       "      <td>NaN</td>\n",
       "      <td>http://us.imdb.com/M/title-exact?Four%20Rooms%...</td>\n",
       "      <td>0</td>\n",
       "      <td>0</td>\n",
       "      <td>0</td>\n",
       "      <td>0</td>\n",
       "      <td>0</td>\n",
       "      <td>...</td>\n",
       "      <td>0</td>\n",
       "      <td>0</td>\n",
       "      <td>0</td>\n",
       "      <td>0</td>\n",
       "      <td>0</td>\n",
       "      <td>0</td>\n",
       "      <td>0</td>\n",
       "      <td>1</td>\n",
       "      <td>0</td>\n",
       "      <td>0</td>\n",
       "    </tr>\n",
       "    <tr>\n",
       "      <th>3</th>\n",
       "      <td>4</td>\n",
       "      <td>Get Shorty (1995)</td>\n",
       "      <td>01-Jan-1995</td>\n",
       "      <td>NaN</td>\n",
       "      <td>http://us.imdb.com/M/title-exact?Get%20Shorty%...</td>\n",
       "      <td>0</td>\n",
       "      <td>1</td>\n",
       "      <td>0</td>\n",
       "      <td>0</td>\n",
       "      <td>0</td>\n",
       "      <td>...</td>\n",
       "      <td>0</td>\n",
       "      <td>0</td>\n",
       "      <td>0</td>\n",
       "      <td>0</td>\n",
       "      <td>0</td>\n",
       "      <td>0</td>\n",
       "      <td>0</td>\n",
       "      <td>0</td>\n",
       "      <td>0</td>\n",
       "      <td>0</td>\n",
       "    </tr>\n",
       "    <tr>\n",
       "      <th>4</th>\n",
       "      <td>5</td>\n",
       "      <td>Copycat (1995)</td>\n",
       "      <td>01-Jan-1995</td>\n",
       "      <td>NaN</td>\n",
       "      <td>http://us.imdb.com/M/title-exact?Copycat%20(1995)</td>\n",
       "      <td>0</td>\n",
       "      <td>0</td>\n",
       "      <td>0</td>\n",
       "      <td>0</td>\n",
       "      <td>0</td>\n",
       "      <td>...</td>\n",
       "      <td>0</td>\n",
       "      <td>0</td>\n",
       "      <td>0</td>\n",
       "      <td>0</td>\n",
       "      <td>0</td>\n",
       "      <td>0</td>\n",
       "      <td>0</td>\n",
       "      <td>1</td>\n",
       "      <td>0</td>\n",
       "      <td>0</td>\n",
       "    </tr>\n",
       "  </tbody>\n",
       "</table>\n",
       "<p>5 rows × 24 columns</p>\n",
       "</div>"
      ],
      "text/plain": [
       "   movie id        movie title release date  video release date  \\\n",
       "0         1   Toy Story (1995)  01-Jan-1995                 NaN   \n",
       "1         2   GoldenEye (1995)  01-Jan-1995                 NaN   \n",
       "2         3  Four Rooms (1995)  01-Jan-1995                 NaN   \n",
       "3         4  Get Shorty (1995)  01-Jan-1995                 NaN   \n",
       "4         5     Copycat (1995)  01-Jan-1995                 NaN   \n",
       "\n",
       "                                            IMDb URL  unknown  Action  \\\n",
       "0  http://us.imdb.com/M/title-exact?Toy%20Story%2...        0       0   \n",
       "1  http://us.imdb.com/M/title-exact?GoldenEye%20(...        0       1   \n",
       "2  http://us.imdb.com/M/title-exact?Four%20Rooms%...        0       0   \n",
       "3  http://us.imdb.com/M/title-exact?Get%20Shorty%...        0       1   \n",
       "4  http://us.imdb.com/M/title-exact?Copycat%20(1995)        0       0   \n",
       "\n",
       "   Adventure  Animation  Children's   ...     Fantasy  Film-Noir  Horror  \\\n",
       "0          0          1           1   ...           0          0       0   \n",
       "1          1          0           0   ...           0          0       0   \n",
       "2          0          0           0   ...           0          0       0   \n",
       "3          0          0           0   ...           0          0       0   \n",
       "4          0          0           0   ...           0          0       0   \n",
       "\n",
       "   Musical  Mystery  Romance  Sci-Fi  Thriller  War  Western  \n",
       "0        0        0        0       0         0    0        0  \n",
       "1        0        0        0       0         1    0        0  \n",
       "2        0        0        0       0         1    0        0  \n",
       "3        0        0        0       0         0    0        0  \n",
       "4        0        0        0       0         1    0        0  \n",
       "\n",
       "[5 rows x 24 columns]"
      ]
     },
     "execution_count": 121,
     "metadata": {},
     "output_type": "execute_result"
    }
   ],
   "source": [
    "movies.head()"
   ]
  },
  {
   "cell_type": "code",
   "execution_count": 128,
   "metadata": {
    "collapsed": true
   },
   "outputs": [],
   "source": [
    "all_movies_name = movies['movie title']"
   ]
  },
  {
   "cell_type": "markdown",
   "metadata": {},
   "source": [
    "# Recommend Movies"
   ]
  },
  {
   "cell_type": "code",
   "execution_count": 129,
   "metadata": {
    "collapsed": true
   },
   "outputs": [],
   "source": [
    "def final_recomendation(all_movies_name,top_movies_to_recommend,num_ofmovies_torec):\n",
    "    rec_movies_name = []\n",
    "    for i in range(num_ofmovies_torec):\n",
    "        m_index = top_movies_to_recommend[i][0]\n",
    "        rec_movies_name.append(all_movies_name[m_index])\n",
    "        \n",
    "    return rec_movies_name"
   ]
  },
  {
   "cell_type": "code",
   "execution_count": 130,
   "metadata": {
    "collapsed": true
   },
   "outputs": [],
   "source": [
    "final_movie = final_recomendation(all_movies_name,top_movies_to_recommend,num_ofmovies_torec)"
   ]
  },
  {
   "cell_type": "code",
   "execution_count": 131,
   "metadata": {},
   "outputs": [
    {
     "data": {
      "text/plain": [
       "['Wallace & Gromit: The Best of Aardman Animation (1996)',\n",
       " 'Secrets & Lies (1996)',\n",
       " \"Schindler's List (1993)\",\n",
       " 'As Good As It Gets (1997)',\n",
       " 'Wrong Trousers, The (1993)',\n",
       " 'Boot, Das (1981)',\n",
       " 'Waiting for Guffman (1996)',\n",
       " 'Once Were Warriors (1994)',\n",
       " 'Good Will Hunting (1997)',\n",
       " 'Man from Down Under, The (1943)']"
      ]
     },
     "execution_count": 131,
     "metadata": {},
     "output_type": "execute_result"
    }
   ],
   "source": [
    "final_movie"
   ]
  },
  {
   "cell_type": "code",
   "execution_count": null,
   "metadata": {
    "collapsed": true
   },
   "outputs": [],
   "source": []
  },
  {
   "cell_type": "code",
   "execution_count": null,
   "metadata": {
    "collapsed": true
   },
   "outputs": [],
   "source": []
  }
 ],
 "metadata": {
  "kernelspec": {
   "display_name": "Python 3",
   "language": "python",
   "name": "python3"
  },
  "language_info": {
   "codemirror_mode": {
    "name": "ipython",
    "version": 3
   },
   "file_extension": ".py",
   "mimetype": "text/x-python",
   "name": "python",
   "nbconvert_exporter": "python",
   "pygments_lexer": "ipython3",
   "version": "3.6.1"
  }
 },
 "nbformat": 4,
 "nbformat_minor": 2
}
